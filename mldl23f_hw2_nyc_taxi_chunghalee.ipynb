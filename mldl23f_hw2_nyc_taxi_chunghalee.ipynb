{
  "nbformat": 4,
  "nbformat_minor": 0,
  "metadata": {
    "colab": {
      "provenance": []
    },
    "kernelspec": {
      "name": "python3",
      "display_name": "Python 3"
    },
    "language_info": {
      "name": "python"
    },
    "accelerator": "TPU"
  },
  "cells": [
    {
      "cell_type": "markdown",
      "source": [
        "### ML/DL HW2 - Data Analysis with NYC Taxi dataset\n",
        "\n",
        "1. Copy this notebook and solve them by following the instruction.\n",
        "2. Upload the dataset in your directory before executing this code.\n",
        "  * Train data (71,514 rows; 2023/01/01-2023/01/23): [Download](https://drive.google.com/file/d/15Ne57MIFPFYgDMpbL5kOly9CjAoZe19r/view?usp=sharing)\n",
        "  * Test data (28,390 rows; 2023/01/24-2023/01/31): [Download](https://drive.google.com/file/d/15Mi8vm2guvePB7RaY6LPi3fxXOwLFlyw/view?usp=sharing)\n",
        "\n",
        "3. Note: Your code for all of the programming exercises including this one should be submitted to the corresponding Programming submission slot on Gradescope.\n",
        "\n",
        "Reference\n",
        "* https://github.com/TanmayKedari/Exploratory-Analysis-of-NYC-Taxi/blob/master/NYC%20Taxi%20Trip%20Duration.ipynb"
      ],
      "metadata": {
        "id": "xWJ3PGIrs9u_"
      }
    },
    {
      "cell_type": "code",
      "source": [
        "import numpy as np\n",
        "import pandas as pd\n",
        "from google.colab import files\n",
        "files=files.upload()"
      ],
      "metadata": {
        "id": "vDQO9YN-qudD",
        "outputId": "4f23d12a-5e8b-4aa0-b660-6bccff3ccdc9",
        "colab": {
          "base_uri": "https://localhost:8080/",
          "height": 109
        }
      },
      "execution_count": 8,
      "outputs": [
        {
          "output_type": "display_data",
          "data": {
            "text/plain": [
              "<IPython.core.display.HTML object>"
            ],
            "text/html": [
              "\n",
              "     <input type=\"file\" id=\"files-96ae5d2c-da64-4a84-9d43-a02e13345719\" name=\"files[]\" multiple disabled\n",
              "        style=\"border:none\" />\n",
              "     <output id=\"result-96ae5d2c-da64-4a84-9d43-a02e13345719\">\n",
              "      Upload widget is only available when the cell has been executed in the\n",
              "      current browser session. Please rerun this cell to enable.\n",
              "      </output>\n",
              "      <script>// Copyright 2017 Google LLC\n",
              "//\n",
              "// Licensed under the Apache License, Version 2.0 (the \"License\");\n",
              "// you may not use this file except in compliance with the License.\n",
              "// You may obtain a copy of the License at\n",
              "//\n",
              "//      http://www.apache.org/licenses/LICENSE-2.0\n",
              "//\n",
              "// Unless required by applicable law or agreed to in writing, software\n",
              "// distributed under the License is distributed on an \"AS IS\" BASIS,\n",
              "// WITHOUT WARRANTIES OR CONDITIONS OF ANY KIND, either express or implied.\n",
              "// See the License for the specific language governing permissions and\n",
              "// limitations under the License.\n",
              "\n",
              "/**\n",
              " * @fileoverview Helpers for google.colab Python module.\n",
              " */\n",
              "(function(scope) {\n",
              "function span(text, styleAttributes = {}) {\n",
              "  const element = document.createElement('span');\n",
              "  element.textContent = text;\n",
              "  for (const key of Object.keys(styleAttributes)) {\n",
              "    element.style[key] = styleAttributes[key];\n",
              "  }\n",
              "  return element;\n",
              "}\n",
              "\n",
              "// Max number of bytes which will be uploaded at a time.\n",
              "const MAX_PAYLOAD_SIZE = 100 * 1024;\n",
              "\n",
              "function _uploadFiles(inputId, outputId) {\n",
              "  const steps = uploadFilesStep(inputId, outputId);\n",
              "  const outputElement = document.getElementById(outputId);\n",
              "  // Cache steps on the outputElement to make it available for the next call\n",
              "  // to uploadFilesContinue from Python.\n",
              "  outputElement.steps = steps;\n",
              "\n",
              "  return _uploadFilesContinue(outputId);\n",
              "}\n",
              "\n",
              "// This is roughly an async generator (not supported in the browser yet),\n",
              "// where there are multiple asynchronous steps and the Python side is going\n",
              "// to poll for completion of each step.\n",
              "// This uses a Promise to block the python side on completion of each step,\n",
              "// then passes the result of the previous step as the input to the next step.\n",
              "function _uploadFilesContinue(outputId) {\n",
              "  const outputElement = document.getElementById(outputId);\n",
              "  const steps = outputElement.steps;\n",
              "\n",
              "  const next = steps.next(outputElement.lastPromiseValue);\n",
              "  return Promise.resolve(next.value.promise).then((value) => {\n",
              "    // Cache the last promise value to make it available to the next\n",
              "    // step of the generator.\n",
              "    outputElement.lastPromiseValue = value;\n",
              "    return next.value.response;\n",
              "  });\n",
              "}\n",
              "\n",
              "/**\n",
              " * Generator function which is called between each async step of the upload\n",
              " * process.\n",
              " * @param {string} inputId Element ID of the input file picker element.\n",
              " * @param {string} outputId Element ID of the output display.\n",
              " * @return {!Iterable<!Object>} Iterable of next steps.\n",
              " */\n",
              "function* uploadFilesStep(inputId, outputId) {\n",
              "  const inputElement = document.getElementById(inputId);\n",
              "  inputElement.disabled = false;\n",
              "\n",
              "  const outputElement = document.getElementById(outputId);\n",
              "  outputElement.innerHTML = '';\n",
              "\n",
              "  const pickedPromise = new Promise((resolve) => {\n",
              "    inputElement.addEventListener('change', (e) => {\n",
              "      resolve(e.target.files);\n",
              "    });\n",
              "  });\n",
              "\n",
              "  const cancel = document.createElement('button');\n",
              "  inputElement.parentElement.appendChild(cancel);\n",
              "  cancel.textContent = 'Cancel upload';\n",
              "  const cancelPromise = new Promise((resolve) => {\n",
              "    cancel.onclick = () => {\n",
              "      resolve(null);\n",
              "    };\n",
              "  });\n",
              "\n",
              "  // Wait for the user to pick the files.\n",
              "  const files = yield {\n",
              "    promise: Promise.race([pickedPromise, cancelPromise]),\n",
              "    response: {\n",
              "      action: 'starting',\n",
              "    }\n",
              "  };\n",
              "\n",
              "  cancel.remove();\n",
              "\n",
              "  // Disable the input element since further picks are not allowed.\n",
              "  inputElement.disabled = true;\n",
              "\n",
              "  if (!files) {\n",
              "    return {\n",
              "      response: {\n",
              "        action: 'complete',\n",
              "      }\n",
              "    };\n",
              "  }\n",
              "\n",
              "  for (const file of files) {\n",
              "    const li = document.createElement('li');\n",
              "    li.append(span(file.name, {fontWeight: 'bold'}));\n",
              "    li.append(span(\n",
              "        `(${file.type || 'n/a'}) - ${file.size} bytes, ` +\n",
              "        `last modified: ${\n",
              "            file.lastModifiedDate ? file.lastModifiedDate.toLocaleDateString() :\n",
              "                                    'n/a'} - `));\n",
              "    const percent = span('0% done');\n",
              "    li.appendChild(percent);\n",
              "\n",
              "    outputElement.appendChild(li);\n",
              "\n",
              "    const fileDataPromise = new Promise((resolve) => {\n",
              "      const reader = new FileReader();\n",
              "      reader.onload = (e) => {\n",
              "        resolve(e.target.result);\n",
              "      };\n",
              "      reader.readAsArrayBuffer(file);\n",
              "    });\n",
              "    // Wait for the data to be ready.\n",
              "    let fileData = yield {\n",
              "      promise: fileDataPromise,\n",
              "      response: {\n",
              "        action: 'continue',\n",
              "      }\n",
              "    };\n",
              "\n",
              "    // Use a chunked sending to avoid message size limits. See b/62115660.\n",
              "    let position = 0;\n",
              "    do {\n",
              "      const length = Math.min(fileData.byteLength - position, MAX_PAYLOAD_SIZE);\n",
              "      const chunk = new Uint8Array(fileData, position, length);\n",
              "      position += length;\n",
              "\n",
              "      const base64 = btoa(String.fromCharCode.apply(null, chunk));\n",
              "      yield {\n",
              "        response: {\n",
              "          action: 'append',\n",
              "          file: file.name,\n",
              "          data: base64,\n",
              "        },\n",
              "      };\n",
              "\n",
              "      let percentDone = fileData.byteLength === 0 ?\n",
              "          100 :\n",
              "          Math.round((position / fileData.byteLength) * 100);\n",
              "      percent.textContent = `${percentDone}% done`;\n",
              "\n",
              "    } while (position < fileData.byteLength);\n",
              "  }\n",
              "\n",
              "  // All done.\n",
              "  yield {\n",
              "    response: {\n",
              "      action: 'complete',\n",
              "    }\n",
              "  };\n",
              "}\n",
              "\n",
              "scope.google = scope.google || {};\n",
              "scope.google.colab = scope.google.colab || {};\n",
              "scope.google.colab._files = {\n",
              "  _uploadFiles,\n",
              "  _uploadFilesContinue,\n",
              "};\n",
              "})(self);\n",
              "</script> "
            ]
          },
          "metadata": {}
        },
        {
          "output_type": "stream",
          "name": "stdout",
          "text": [
            "Saving yellow_tripdata_2023-01_small_test.parquet to yellow_tripdata_2023-01_small_test.parquet\n",
            "Saving yellow_tripdata_2023-01_small_train.parquet to yellow_tripdata_2023-01_small_train.parquet\n"
          ]
        }
      ]
    },
    {
      "cell_type": "code",
      "execution_count": 9,
      "metadata": {
        "id": "Bn1kjKTGp8JH"
      },
      "outputs": [],
      "source": [
        "# Check the below cells before fill in your code.\n",
        "\n",
        "import pyarrow.parquet as pq\n",
        "\n",
        "class Dataset:\n",
        "  train_x = None  # X (data) of training set.\n",
        "  train_y = None  # Y (label) of training set.\n",
        "  test_x = None # X (data) of test set.\n",
        "  test_y = None # Y (label) of test set.\n",
        "\n",
        "  def __init__(self):\n",
        "    self.df_train = pq.read_table('./yellow_tripdata_2023-01_small_train.parquet').to_pandas()\n",
        "    self.df_test = pq.read_table('./yellow_tripdata_2023-01_small_test.parquet').to_pandas()\n",
        "    self.df_train = self.preprocess_data(self.df_train)\n",
        "    self.df_test = self.preprocess_data(self.df_test)\n",
        "\n",
        "    self.df_train['trip_duration'] = (self.df_train['tpep_dropoff_datetime'] - self.df_train['tpep_pickup_datetime']).dt.total_seconds()\n",
        "    self.df_test['trip_duration'] = (self.df_test['tpep_dropoff_datetime'] - self.df_test['tpep_pickup_datetime']).dt.total_seconds()\n",
        "\n",
        "  def preprocess_data(self, df):\n",
        "    df['RatecodeID'].fillna(df['RatecodeID'].mean(), inplace=True)\n",
        "    df['store_and_fwd_flag'].fillna('N', inplace=True) # because 'N' is much more than 'Y'.\n",
        "    df['passenger_count'].fillna(df['passenger_count'].mean(), inplace=True)\n",
        "    df['congestion_surcharge'].fillna(df['congestion_surcharge'].mean(), inplace=True)\n",
        "    df['airport_fee'].fillna(df['airport_fee'].mean(), inplace=True)\n",
        "\n",
        "    return df\n",
        "\n",
        "  def getdata_linear_reg(self):\n",
        "    ### Hint: Use self.df_train, self.df_test\n",
        "    ### Three features (x): Passenger_count, trip_distance, trip_duration (seconds; use tpep_pickup_datetime, tpep_dropoff_datetime)\n",
        "    ### Target (y): fare_amount\n",
        "\n",
        "    self.train_x = self.df_train[['passenger_count', 'trip_distance', 'trip_duration']]\n",
        "    self.train_y = self.df_train['fare_amount']\n",
        "\n",
        "    self.test_x = self.df_test[['passenger_count', 'trip_distance', 'trip_duration']]\n",
        "    self.test_y = self.df_test['fare_amount']\n",
        "\n",
        "    return (self.train_x, self.train_y, self.test_x, self.test_y)\n",
        "\n",
        "  def correlation(self, X, Y):\n",
        "    correlation_matrix = X.corrwith(Y)\n",
        "\n",
        "    return correlation_matrix\n",
        "\n"
      ]
    },
    {
      "cell_type": "markdown",
      "source": [
        "# Test Code\n",
        "\n",
        "Provide some test code with your Linear regression code. Also, Compare with sklearn.LinearRegression()."
      ],
      "metadata": {
        "id": "UAZWA3rlp_QX"
      }
    },
    {
      "cell_type": "markdown",
      "source": [
        "### 1. Prepare the dataset (8pt)\n",
        "Load the train and test datasets.\n",
        "\n",
        "methods:\n",
        "\n",
        "(1) **preprocess_data(self, df)**: Handle None and null values (2pt)\n",
        "\n",
        "(2) **getdata_linear_reg(self)**: Separate the features/labels of the train/test set and save them separately in a numpy array format.(4pt)\n",
        "\n",
        "(3) **correlation(self, X, Y)**: Calculate the correlation between each features and target Y in training set (2pt)\n",
        "\n"
      ],
      "metadata": {
        "id": "CbK0PY4G3VpB"
      }
    },
    {
      "cell_type": "code",
      "source": [
        "dataset = Dataset()\n",
        "dataset.df_train.isnull().sum()"
      ],
      "metadata": {
        "colab": {
          "base_uri": "https://localhost:8080/"
        },
        "id": "XOpDYlizue-x",
        "outputId": "b270c4cb-2587-4aa7-9fa9-c8aaa54bc920"
      },
      "execution_count": 10,
      "outputs": [
        {
          "output_type": "execute_result",
          "data": {
            "text/plain": [
              "VendorID                 0\n",
              "tpep_pickup_datetime     0\n",
              "tpep_dropoff_datetime    0\n",
              "passenger_count          0\n",
              "trip_distance            0\n",
              "RatecodeID               0\n",
              "store_and_fwd_flag       0\n",
              "PULocationID             0\n",
              "DOLocationID             0\n",
              "payment_type             0\n",
              "fare_amount              0\n",
              "extra                    0\n",
              "mta_tax                  0\n",
              "tip_amount               0\n",
              "tolls_amount             0\n",
              "improvement_surcharge    0\n",
              "total_amount             0\n",
              "congestion_surcharge     0\n",
              "airport_fee              0\n",
              "trip_duration            0\n",
              "dtype: int64"
            ]
          },
          "metadata": {},
          "execution_count": 10
        }
      ]
    },
    {
      "cell_type": "code",
      "source": [
        "dataset.df_test.isnull().sum()"
      ],
      "metadata": {
        "colab": {
          "base_uri": "https://localhost:8080/"
        },
        "id": "BxMt-MJPvnp_",
        "outputId": "ac9e30dc-3edf-4c76-b612-8ca58d1f69a1"
      },
      "execution_count": 11,
      "outputs": [
        {
          "output_type": "execute_result",
          "data": {
            "text/plain": [
              "VendorID                 0\n",
              "tpep_pickup_datetime     0\n",
              "tpep_dropoff_datetime    0\n",
              "passenger_count          0\n",
              "trip_distance            0\n",
              "RatecodeID               0\n",
              "store_and_fwd_flag       0\n",
              "PULocationID             0\n",
              "DOLocationID             0\n",
              "payment_type             0\n",
              "fare_amount              0\n",
              "extra                    0\n",
              "mta_tax                  0\n",
              "tip_amount               0\n",
              "tolls_amount             0\n",
              "improvement_surcharge    0\n",
              "total_amount             0\n",
              "congestion_surcharge     0\n",
              "airport_fee              0\n",
              "trip_duration            0\n",
              "dtype: int64"
            ]
          },
          "metadata": {},
          "execution_count": 11
        }
      ]
    },
    {
      "cell_type": "code",
      "source": [
        "[train_x, train_y, test_x, test_y] = dataset.getdata_linear_reg()\n",
        "print(train_x)\n",
        "print(train_y)\n",
        "print(test_x)\n",
        "print(test_y)\n",
        "\n",
        "print('-------------------------------------')\n",
        "dataset.correlation(train_x, train_y)"
      ],
      "metadata": {
        "id": "JBqyLFdu5zr9",
        "colab": {
          "base_uri": "https://localhost:8080/"
        },
        "outputId": "2b07efa6-4cd7-46d6-f589-d9c479920b89"
      },
      "execution_count": 12,
      "outputs": [
        {
          "output_type": "stream",
          "name": "stdout",
          "text": [
            "       passenger_count  trip_distance  trip_duration\n",
            "0                  1.0           2.95          922.0\n",
            "1                  5.0           2.35         1715.0\n",
            "2                  1.0           2.04          705.0\n",
            "3                  1.0           7.05         1316.0\n",
            "4                  1.0           0.80          337.0\n",
            "...                ...            ...            ...\n",
            "71509              1.0          10.48         1325.0\n",
            "71510              1.0          17.65         2383.0\n",
            "71511              1.0          12.12         1443.0\n",
            "71512              1.0           1.64          506.0\n",
            "71513              1.0           4.03          824.0\n",
            "\n",
            "[71514 rows x 3 columns]\n",
            "0        17.7\n",
            "1        23.3\n",
            "2        13.5\n",
            "3        32.4\n",
            "4         5.5\n",
            "         ... \n",
            "71509    42.2\n",
            "71510    70.0\n",
            "71511    47.8\n",
            "71512    10.7\n",
            "71513    19.1\n",
            "Name: fare_amount, Length: 71514, dtype: float64\n",
            "       passenger_count  trip_distance  trip_duration\n",
            "0             1.000000           1.78          472.0\n",
            "1             1.000000           0.80          108.0\n",
            "2             2.000000           3.00          774.0\n",
            "3             1.000000           3.33          825.0\n",
            "4             1.000000           1.48          384.0\n",
            "...                ...            ...            ...\n",
            "28385         1.332743           0.00         1061.0\n",
            "28386         1.332743           4.56         1068.0\n",
            "28387         1.332743           4.34         1080.0\n",
            "28388         1.332743           0.00          548.0\n",
            "28389         1.332743           3.05          839.0\n",
            "\n",
            "[28390 rows x 3 columns]\n",
            "0        10.70\n",
            "1         5.10\n",
            "2        16.30\n",
            "3        18.40\n",
            "4         9.30\n",
            "         ...  \n",
            "28385    13.00\n",
            "28386    20.00\n",
            "28387    20.88\n",
            "28388     3.90\n",
            "28389    15.80\n",
            "Name: fare_amount, Length: 28390, dtype: float64\n",
            "-------------------------------------\n"
          ]
        },
        {
          "output_type": "execute_result",
          "data": {
            "text/plain": [
              "passenger_count    0.037161\n",
              "trip_distance      0.891860\n",
              "trip_duration      0.792956\n",
              "dtype: float64"
            ]
          },
          "metadata": {},
          "execution_count": 12
        }
      ]
    },
    {
      "cell_type": "markdown",
      "source": [
        "### Question 2: Linear Regression Using Scikit-learn (6 points)\n",
        "\n",
        "For this task, you are required to implement linear regression utilizing the scikit-learn library. You will be working with the LinearRegression module, which provides functions and methods tailored for this purpose.\n",
        "\n",
        "For comprehensive documentation and usage guidelines, please refer to the official scikit-learn documentation: https://scikit-learn.org/stable/modules/generated/sklearn.linear_model.LinearRegression.html\n",
        "\n",
        "Ensure to:\n",
        "* Properly import the necessary libraries and modules.\n",
        "* Provide a brief explanation or observation after obtaining the results."
      ],
      "metadata": {
        "id": "MOv1M9TK8Nqr"
      }
    },
    {
      "cell_type": "code",
      "source": [
        "# Import required modules\n",
        "from sklearn.linear_model import LinearRegression\n",
        "from sklearn.metrics import mean_squared_error\n",
        "import numpy as np\n",
        "\n",
        "# Initialize the Linear Regression model\n",
        "linear = LinearRegression()\n",
        "\n",
        "# Fit the model to the training data (Use train_x, train_y, and linear.fit function)\n",
        "linear.fit(train_x, train_y)\n",
        "\n",
        "# Predict the target values for the test dataset (Use linear.predict function and test_x to find y_hat)\n",
        "y_hat = linear.predict(test_x)\n",
        "\n",
        "def RMSE(true, predicted):\n",
        "# Calculate the Root Mean Squared Error (RMSE) for model evaluation\n",
        "  rmse = np.sqrt(mean_squared_error(true, predicted))\n",
        "  return rmse\n",
        "\n",
        "error = RMSE(test_y, y_hat)\n",
        "print(f\"Root Mean Squared Error (RMSE) on test data: {error:.2f}\")\n",
        "\n",
        "# Find the slope (coefficients) and intercepts\n",
        "slope = linear.coef_\n",
        "intercept = linear.intercept_\n",
        "print(f\"\\nModel Coefficients: {slope}\")\n",
        "print(f\"Model Intercept: {intercept:.2f}\")\n",
        "\n",
        "import matplotlib.pyplot as plt\n",
        "# Add plots to visualize the difference between actual vs predicted values\n",
        "plt.scatter(test_y, y_hat)\n",
        "plt.xlabel(\"Actual Values\")\n",
        "plt.ylabel(\"Predicted Values\")\n",
        "plt.title(\"Actual vs Predicted Values\")\n",
        "plt.show()\n"
      ],
      "metadata": {
        "id": "lwbM65XBsHtR",
        "colab": {
          "base_uri": "https://localhost:8080/",
          "height": 543
        },
        "outputId": "3cf04739-6848-4238-fabf-ec4baef3b72c"
      },
      "execution_count": 13,
      "outputs": [
        {
          "output_type": "stream",
          "name": "stdout",
          "text": [
            "Root Mean Squared Error (RMSE) on test data: 6.70\n",
            "\n",
            "Model Coefficients: [0.11415376 2.92476095 0.00525156]\n",
            "Model Intercept: 3.71\n"
          ]
        },
        {
          "output_type": "display_data",
          "data": {
            "text/plain": [
              "<Figure size 640x480 with 1 Axes>"
            ],
            "image/png": "[encoded data removed]"
          },
          "metadata": {}
        }
      ]
    },
    {
      "cell_type": "markdown",
      "source": [
        "### 3. Craft Your Linear Regression Algorithm (6pt)\n",
        "Delve into the foundations of linear regression by constructing your own model to make predictions on the dataset.\n",
        "\n",
        "While detailed annotations will guide your implementation, do not use external libraries such as scikit-learn. Using the numpy library is permitted.\n",
        "\n",
        "Begin your exploration by understanding the closed form solution for linear regression. Subsequently, familiarize yourself with the gradient descent methodology.\n",
        "\n"
      ],
      "metadata": {
        "id": "q0PTCFXN6fjP"
      }
    },
    {
      "cell_type": "code",
      "source": [
        "import numpy as np\n",
        "\n",
        "class Linear:\n",
        "\n",
        "    w = None\n",
        "\n",
        "    def __init__(self, eta=0.5, epochs=100, alpha=0.01):\n",
        "        self.eta = eta\n",
        "        self.epochs = epochs\n",
        "        self.alpha = alpha  # L2 regularization parameter\n",
        "\n",
        "    def setEta(self, etaVal):\n",
        "        self.eta = etaVal\n",
        "\n",
        "    def setEpoch(self, nepoch):\n",
        "        self.epochs = nepoch\n",
        "\n",
        "    def predict(self, X):\n",
        "        \"\"\"\n",
        "        Perform inference\n",
        "        \"\"\"\n",
        "        if self.w is None:\n",
        "            raise ValueError(\"Model not trained. Call 'train' method first.\")\n",
        "\n",
        "        # Perform linear regression prediction\n",
        "        y_pred = np.dot(X, self.w)\n",
        "        return y_pred\n",
        "\n",
        "    def train(self, X, Y, X_valid=None, Y_valid=None):\n",
        "        \"\"\"\n",
        "        Construct a vanilla linear regressor using gradient descent.\n",
        "        \"\"\"\n",
        "        # Check for NaN values in input data\n",
        "        if X.isnull().any().any() or Y.isnull().any():\n",
        "            raise ValueError(\"Input data contains NaN values. Check your data preprocessing.\")\n",
        "\n",
        "        # Check if the target variable contains NaN values\n",
        "        if Y.isnull().any():\n",
        "            raise ValueError(\"Target variable contains NaN values. Check your target variable.\")\n",
        "\n",
        "        # Ensure that X and Y have compatible shapes\n",
        "        if X.shape[0] != Y.shape[0]:\n",
        "            raise ValueError(\"Input data (X) and target variable (Y) must have the same number of samples.\")\n",
        "\n",
        "        # Feature scaling (standardization)\n",
        "        X = (X - X.mean()) / X.std()\n",
        "\n",
        "        # Initialize weights with zeros\n",
        "        self.w = np.zeros(X.shape[1])\n",
        "\n",
        "        best_rmse = float('inf')\n",
        "        best_w = None\n",
        "\n",
        "        for epoch in range(self.epochs):\n",
        "            # Calculate predictions\n",
        "            y_pred = self.predict(X)\n",
        "\n",
        "            # Calculate the error\n",
        "            error = Y - y_pred\n",
        "\n",
        "            # Update weights using gradient descent with L2 regularization\n",
        "            gradient = (-np.dot(X.T, error) + self.alpha * self.w) / len(X)\n",
        "\n",
        "            self.w -= self.eta * gradient\n",
        "\n",
        "        # Use the best weights found during training\n",
        "        if best_w is not None:\n",
        "            self.w = best_w\n",
        "\n",
        "    def RMSE(self, true, predicted):\n",
        "        \"\"\"\n",
        "        Return Root Mean Squared Error\n",
        "        \"\"\"\n",
        "        # Calculate the squared error for each data point\n",
        "        squared_error = (true - predicted) ** 2\n",
        "\n",
        "        # Calculate the mean of squared errors\n",
        "        mean_squared_error = squared_error.mean()\n",
        "\n",
        "        # Take the square root to get RMSE\n",
        "        rmse = np.sqrt(mean_squared_error)\n",
        "\n",
        "        return rmse\n"
      ],
      "metadata": {
        "id": "tpt2mXexqjwM"
      },
      "execution_count": 113,
      "outputs": []
    },
    {
      "cell_type": "code",
      "source": [
        "model = Linear()"
      ],
      "metadata": {
        "id": "T5K8HfSJ6xMp"
      },
      "execution_count": 114,
      "outputs": []
    },
    {
      "cell_type": "code",
      "source": [
        "model.train(train_x, train_y)"
      ],
      "metadata": {
        "id": "qLeNXKdt939Q"
      },
      "execution_count": 115,
      "outputs": []
    },
    {
      "cell_type": "code",
      "source": [
        "y_hat = model.predict(test_x)\n",
        "print(y_hat)"
      ],
      "metadata": {
        "id": "tnY03jmU96UZ",
        "colab": {
          "base_uri": "https://localhost:8080/"
        },
        "outputId": "8d1ca8f7-3fac-4a04-becd-e09ab31fe11b"
      },
      "execution_count": 116,
      "outputs": [
        {
          "output_type": "stream",
          "name": "stdout",
          "text": [
            "[1653.26007748  383.50311575 2712.16415614 ... 3786.27632827 1892.46062409\n",
            " 2937.2027286 ]\n"
          ]
        }
      ]
    },
    {
      "cell_type": "code",
      "source": [
        "error = RMSE(test_y, y_hat)\n",
        "print(error)"
      ],
      "metadata": {
        "id": "npVetb3f66pw",
        "colab": {
          "base_uri": "https://localhost:8080/"
        },
        "outputId": "bde2084a-2d25-44e1-ad7f-5f5f263a4d43"
      },
      "execution_count": 117,
      "outputs": [
        {
          "output_type": "stream",
          "name": "stdout",
          "text": [
            "3773.6447068465222\n"
          ]
        }
      ]
    },
    {
      "cell_type": "code",
      "source": [],
      "metadata": {
        "id": "kzf9UMXDsa1T"
      },
      "execution_count": 117,
      "outputs": []
    }
  ]
}