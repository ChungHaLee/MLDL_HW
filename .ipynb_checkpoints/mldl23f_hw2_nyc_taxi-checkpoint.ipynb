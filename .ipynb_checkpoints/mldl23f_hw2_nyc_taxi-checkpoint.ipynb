{
 "cells": [
  {
   "cell_type": "markdown",
   "metadata": {
    "id": "xWJ3PGIrs9u_"
   },
   "source": [
    "### ML/DL HW2 - Data Analysis with NYC Taxi dataset\n",
    "\n",
    "1. Copy this notebook and solve them by following the instruction.\n",
    "2. Upload the dataset in your directory before executing this code.\n",
    "  * Train data (71,514 rows; 2023/01/01-2023/01/23): [Download](https://drive.google.com/file/d/15Ne57MIFPFYgDMpbL5kOly9CjAoZe19r/view?usp=sharing)\n",
    "  * Test data (28,390 rows; 2023/01/24-2023/01/31): [Download](https://drive.google.com/file/d/15Mi8vm2guvePB7RaY6LPi3fxXOwLFlyw/view?usp=sharing)\n",
    "\n",
    "3. Note: Your code for all of the programming exercises including this one should be submitted to the corresponding Programming submission slot on Gradescope.\n",
    "\n",
    "Reference\n",
    "* https://github.com/TanmayKedari/Exploratory-Analysis-of-NYC-Taxi/blob/master/NYC%20Taxi%20Trip%20Duration.ipynb"
   ]
  },
  {
   "cell_type": "markdown",
   "metadata": {},
   "source": [
    "Name: ChungHa Lee\n",
    "\n",
    "Student ID: 20232027"
   ]
  },
  {
   "cell_type": "code",
   "execution_count": null,
   "metadata": {
    "id": "vDQO9YN-qudD"
   },
   "outputs": [],
   "source": [
    "import numpy as np\n",
    "import pandas as pd\n",
    "from google.colab import files\n",
    "files=files.upload()"
   ]
  },
  {
   "cell_type": "code",
   "execution_count": null,
   "metadata": {
    "id": "Bn1kjKTGp8JH"
   },
   "outputs": [],
   "source": [
    "# Check the below cells before fill in your code.\n",
    "\n",
    "import pyarrow.parquet as pq\n",
    "\n",
    "class Dataset:\n",
    "  train_x = None  # X (data) of training set.\n",
    "  train_y = None  # Y (label) of training set.\n",
    "  test_x = None # X (data) of test set.\n",
    "  test_y = None # Y (label) of test set.\n",
    "\n",
    "  def __init__(self):\n",
    "    self.df_train = pq.read_table('./yellow_tripdata_2023-01_small_train.parquet').to_pandas()\n",
    "    self.df_test = pq.read_table('./yellow_tripdata_2023-01_small_test.parquet').to_pandas()\n",
    "    self.df_train = self.preprocess_data(self.df_train)\n",
    "    self.df_test = self.preprocess_data(self.df_test)\n",
    "\n",
    "  def preprocess_data(self, df):\n",
    "    ### TODO: Preprocess your data (Impute null values; DO NOT drop any test cases)\n",
    "    return df\n",
    "\n",
    "  def getdata_linear_reg(self):\n",
    "    ### Hint: Use self.df_train, self.df_test\n",
    "    ### Three features (x): Passenger_count, trip_distance, trip_duration (seconds; use tpep_pickup_datetime, tpep_dropoff_datetime)\n",
    "    ### Target (y): fare_amount\n",
    "    self.train_x = None  ### TODO: YOUR CODE HERE\n",
    "    self.train_y = None  ### TODO: YOUR CODE HERE\n",
    "    self.test_x = None ### TODO: YOUR CODE HERE\n",
    "    self.test_y = None ### TODO: YOUR CODE HERE\n",
    "    return [self.train_x, self.train_y, self.test_x, self.test_y]\n",
    "\n",
    "  def correlation(self, X, Y):\n",
    "    ### TODO: Correlation with each features\n",
    "    pass\n",
    "\n"
   ]
  },
  {
   "cell_type": "markdown",
   "metadata": {
    "id": "UAZWA3rlp_QX"
   },
   "source": [
    "# Test Code\n",
    "\n",
    "Provide some test code with your Linear regression code. Also, Compare with sklearn.LinearRegression()."
   ]
  },
  {
   "cell_type": "markdown",
   "metadata": {
    "id": "CbK0PY4G3VpB"
   },
   "source": [
    "### 1. Prepare the dataset (8pt)\n",
    "Load the train and test datasets.\n",
    "\n",
    "methods:\n",
    "\n",
    "(1) **preprocess_data(self, df)**: Handle None and null values (2pt)\n",
    "\n",
    "(2) **getdata_linear_reg(self)**: Separate the features/labels of the train/test set and save them separately in a numpy array format.(4pt)\n",
    "\n",
    "(3) **correlation(self, X, Y)**: Calculate the correlation between each features and target Y in training set (2pt)\n",
    "\n"
   ]
  },
  {
   "cell_type": "code",
   "execution_count": null,
   "metadata": {
    "id": "JBqyLFdu5zr9"
   },
   "outputs": [],
   "source": [
    "dataset = Dataset()\n",
    "[train_x, train_y, test_x, test_y] = dataset.getdata_linear_reg()\n",
    "print(train_x)\n",
    "print(train_y)\n",
    "print(test_x)\n",
    "print(test_y)\n",
    "\n",
    "dataset.correlation(train_x, train_y)"
   ]
  },
  {
   "cell_type": "markdown",
   "metadata": {
    "id": "MOv1M9TK8Nqr"
   },
   "source": [
    "### Question 2: Linear Regression Using Scikit-learn (6 points)\n",
    "\n",
    "For this task, you are required to implement linear regression utilizing the scikit-learn library. You will be working with the LinearRegression module, which provides functions and methods tailored for this purpose.\n",
    "\n",
    "For comprehensive documentation and usage guidelines, please refer to the official scikit-learn documentation: https://scikit-learn.org/stable/modules/generated/sklearn.linear_model.LinearRegression.html\n",
    "\n",
    "Ensure to:\n",
    "* Properly import the necessary libraries and modules.\n",
    "* Provide a brief explanation or observation after obtaining the results."
   ]
  },
  {
   "cell_type": "code",
   "execution_count": null,
   "metadata": {
    "id": "lwbM65XBsHtR"
   },
   "outputs": [],
   "source": [
    "# # Install necessary libraries\n",
    "# !pip install sklearn\n",
    "\n",
    "# Import required modules\n",
    "from sklearn.linear_model import LinearRegression\n",
    "from sklearn.metrics import mean_squared_error\n",
    "import numpy as np\n",
    "\n",
    "# Initialize the Linear Regression model\n",
    "linear = LinearRegression()\n",
    "\n",
    "# Fit the model to the training data (Use train_x, train_y, and linear.fit function)\n",
    "### TODO: YOUR CODE HERE\n",
    "\n",
    "# Predict the target values for the test dataset (Use linear.predict function and test_x to find y_hat)\n",
    "y_hat = None  ### TODO: YOUR CODE HERE\n",
    "\n",
    "def RMSE(true, predicted):\n",
    "# Calculate the Root Mean Squared Error (RMSE) for model evaluation\n",
    "  rmse = 0  ### TODO: YOUR CODE HERE\n",
    "  return rmse\n",
    "\n",
    "error = RMSE(test_y, y_hat)\n",
    "print(f\"Root Mean Squared Error (RMSE) on test data: {error:.2f}\")\n",
    "\n",
    "# Find the slope (coefficients) and intercepts\n",
    "slope = None  ### TODO: YOUR CODE HERE\n",
    "intercept = None  ### TODO: YOUR CODE HERE\n",
    "print(f\"\\nModel Coefficients: {slope}\")\n",
    "print(f\"Model Intercept: {intercept:.2f}\")\n",
    "\n",
    "import matplotlib.pyplot as plt\n",
    "# Add plots to visualize the difference between actual vs predicted values\n",
    "### TODO: YOUR CODE HERE\n"
   ]
  },
  {
   "cell_type": "markdown",
   "metadata": {
    "id": "q0PTCFXN6fjP"
   },
   "source": [
    "### 3. Craft Your Linear Regression Algorithm (6pt)\n",
    "Delve into the foundations of linear regression by constructing your own model to make predictions on the dataset.\n",
    "\n",
    "While detailed annotations will guide your implementation, do not use external libraries such as scikit-learn. Using the numpy library is permitted.\n",
    "\n",
    "Begin your exploration by understanding the closed form solution for linear regression. Subsequently, familiarize yourself with the gradient descent methodology.\n",
    "\n"
   ]
  },
  {
   "cell_type": "code",
   "execution_count": null,
   "metadata": {
    "id": "tpt2mXexqjwM"
   },
   "outputs": [],
   "source": [
    "from numpy import *\n",
    "\n",
    "class Linear:\n",
    "\n",
    "    w = None\n",
    "\n",
    "    def __init__(self, eta=0.01, epoch=100):\n",
    "      self.w = None\n",
    "      self.eta = eta\n",
    "      self.epoch = epoch\n",
    "\n",
    "    def setEta(self, etaVal):\n",
    "      self.eta = etaVal\n",
    "\n",
    "    def setEpoch(self, nepoch):\n",
    "      self.epoch = nepoch\n",
    "\n",
    "    def predict(self, X):\n",
    "      \"\"\"\n",
    "      Perform inference\n",
    "      \"\"\"\n",
    "      ### TODO: YOUR CODE HERE\n",
    "\n",
    "    def train(self, X, Y):\n",
    "      \"\"\"\n",
    "      Construct a vanilla linear regressor using gradient descent.\n",
    "      \"\"\"\n",
    "      ### TODO: YOUR CODE HERE\n"
   ]
  },
  {
   "cell_type": "code",
   "execution_count": null,
   "metadata": {
    "id": "FENjv9O39ilV"
   },
   "outputs": [],
   "source": [
    "def RMSE(y_test, y_hat):\n",
    "    \"\"\"\n",
    "    Return Root Mean Squared Error\n",
    "    \"\"\"\n",
    "    ### TODO : YOUR CODE HERE"
   ]
  },
  {
   "cell_type": "code",
   "execution_count": null,
   "metadata": {
    "id": "T5K8HfSJ6xMp"
   },
   "outputs": [],
   "source": [
    "model = Linear()"
   ]
  },
  {
   "cell_type": "code",
   "execution_count": null,
   "metadata": {
    "id": "qLeNXKdt939Q"
   },
   "outputs": [],
   "source": [
    "model.train(train_x, train_y)"
   ]
  },
  {
   "cell_type": "code",
   "execution_count": null,
   "metadata": {
    "id": "tnY03jmU96UZ"
   },
   "outputs": [],
   "source": [
    "y_hat = model.predict(test_x)\n",
    "print(y_hat)"
   ]
  },
  {
   "cell_type": "code",
   "execution_count": null,
   "metadata": {
    "id": "npVetb3f66pw"
   },
   "outputs": [],
   "source": [
    "error = RMSE(test_y, y_hat)\n",
    "print(error)"
   ]
  }
 ],
 "metadata": {
  "colab": {
   "provenance": []
  },
  "kernelspec": {
   "display_name": "Python 3",
   "language": "python",
   "name": "python3"
  },
  "language_info": {
   "codemirror_mode": {
    "name": "ipython",
    "version": 3
   },
   "file_extension": ".py",
   "mimetype": "text/x-python",
   "name": "python",
   "nbconvert_exporter": "python",
   "pygments_lexer": "ipython3",
   "version": "3.7.9"
  }
 },
 "nbformat": 4,
 "nbformat_minor": 1
}
